{
 "cells": [
  {
   "cell_type": "code",
   "execution_count": 1,
   "id": "93d67ce5-2ce9-4929-97a3-1cf3a56f63ef",
   "metadata": {},
   "outputs": [],
   "source": [
    "from datascience import *\n",
    "import numpy as np\n",
    "\n",
    "# These lines set up graphing capabilities.\n",
    "import matplotlib\n",
    "%matplotlib inline\n",
    "import matplotlib.pyplot as plt\n",
    "plt.style.use('fivethirtyeight')\n",
    "import warnings\n",
    "warnings.simplefilter('ignore', FutureWarning)"
   ]
  },
  {
   "cell_type": "markdown",
   "id": "92af8040-cefb-494e-a5d4-f746d5dc6ba0",
   "metadata": {},
   "source": [
    "# By the Numbers"
   ]
  },
  {
   "cell_type": "markdown",
   "id": "d97bcc39-2a75-4367-8dd1-85377dd10b94",
   "metadata": {},
   "source": [
    "Many questions about the world involve numbers in one form or another. Some of them have concrete numerical answers, such as the average size of a Berkeley class. Some of them don't, but their answers are based on numerical evidence, such as the number of years a newborn baby is expected to live. A key objective in data science is quantifying that uncertainty. Welcome to Data 8!"
   ]
  },
  {
   "cell_type": "markdown",
   "id": "bd90fe64-63d7-4480-9af9-36a4ac11cdf1",
   "metadata": {},
   "source": [
    "# Tables, Causation"
   ]
  },
  {
   "cell_type": "markdown",
   "id": "bb787309-7c12-455a-affb-6ced1e24d02f",
   "metadata": {},
   "source": [
    "## Causation"
   ]
  },
  {
   "cell_type": "markdown",
   "id": "fdf29aab-c28c-495d-af0c-a714a22bda03",
   "metadata": {},
   "source": [
    "An **observational study** is when a researcher simply observes what happens in the world without manipulation or control of the subjects. Observational studies can reveal association. However, it is difficult to make conclusions about causality due to a process known as **confounding**. \n",
    "\n",
    "For example, suppose I conduct an observational study and find a positive association between ice cream sales and sunglasses. This does not mean that people buying ice cream *causes* them to then but sunglasses! In reality, days with high ice cream and sunglasses sales have something else in common that causes them both - hot weather. Thus, temperature is a **confounding variable**.\n",
    "\n",
    "In contrast, a **randomized controlled experiment** is when researchers randomly assign subjects into a treatment group and control group. This keeps the two groups similar except for the treatment which eliminates the effects of confounding. Thus, randomized controlled experiments can be used to establish causality."
   ]
  },
  {
   "cell_type": "markdown",
   "id": "81d576c7-a472-40e8-a8e5-9bf8d02a38c9",
   "metadata": {},
   "source": [
    "## Assignment Statements"
   ]
  },
  {
   "cell_type": "markdown",
   "id": "f2496b71-be93-403a-a5e8-d0db854268f5",
   "metadata": {},
   "source": [
    "You can associate a variable name with a value with an **assignment statement**. Python evaluates the expression to the right of the equal sign and assigns it to the name on the left. When you refer to that variable name, python will substitute in the value assigned to it."
   ]
  },
  {
   "cell_type": "code",
   "execution_count": 2,
   "id": "20d09e9c-a9f3-47d4-88d1-7c6e378b23b3",
   "metadata": {},
   "outputs": [
    {
     "data": {
      "text/plain": [
       "87600"
      ]
     },
     "execution_count": 2,
     "metadata": {},
     "output_type": "execute_result"
    }
   ],
   "source": [
    "hours_per_decade = 24 * 365 * 10\n",
    "hours_per_decade"
   ]
  },
  {
   "cell_type": "markdown",
   "id": "2dd1b0b1-2ef7-4909-8e03-d72fc621b3af",
   "metadata": {},
   "source": [
    "## Arrays"
   ]
  },
  {
   "cell_type": "markdown",
   "id": "308089eb-4886-48dd-838c-f476c44d1a21",
   "metadata": {},
   "source": [
    "An **array** is a sequence of data. An array can only contain a single kind of data (e.g. `float`, `int`, `string`). You can make arrays with the `make_array` function."
   ]
  },
  {
   "cell_type": "code",
   "execution_count": 3,
   "id": "1da39959-69f0-4f3f-a317-539d1c2e9c4c",
   "metadata": {},
   "outputs": [
    {
     "data": {
      "text/plain": [
       "array([2, 3, 4])"
      ]
     },
     "execution_count": 3,
     "metadata": {},
     "output_type": "execute_result"
    }
   ],
   "source": [
    "arr = make_array(2, 3, 4)\n",
    "arr"
   ]
  },
  {
   "cell_type": "markdown",
   "id": "7b4da887-02a0-4f3c-a651-e0dc13317f5f",
   "metadata": {},
   "source": [
    "When you perform an arithmetic operation between an array and a single number, that operation is applied to every element in the array."
   ]
  },
  {
   "cell_type": "code",
   "execution_count": 4,
   "id": "ecadf73f-4a90-499b-a7e1-674ad92d7174",
   "metadata": {},
   "outputs": [
    {
     "data": {
      "text/plain": [
       "array([ 6,  9, 12])"
      ]
     },
     "execution_count": 4,
     "metadata": {},
     "output_type": "execute_result"
    }
   ],
   "source": [
    "foo = arr * 3\n",
    "foo"
   ]
  },
  {
   "cell_type": "markdown",
   "id": "2e776352-ee71-48f3-871c-f1f91e236819",
   "metadata": {},
   "source": [
    "When you perform an arithmetic operation between 2 arrays of the same length, the operation is carried out elementwise."
   ]
  },
  {
   "cell_type": "code",
   "execution_count": 5,
   "id": "7ad660e6-8f9f-41cf-a9a2-c81e24d714b7",
   "metadata": {},
   "outputs": [
    {
     "data": {
      "text/plain": [
       "array([ 8, 12, 16])"
      ]
     },
     "execution_count": 5,
     "metadata": {},
     "output_type": "execute_result"
    }
   ],
   "source": [
    "bar = arr + foo\n",
    "bar"
   ]
  },
  {
   "cell_type": "markdown",
   "id": "48d69cfc-e2e7-44a8-ba6d-cf4310355f52",
   "metadata": {},
   "source": [
    "You can access element from an array with `.item(i)`, where `i` is the **index**, or location of the element if you start counting from the start of the array. In python and most other programming languages, we start counting from `0`, not `1`."
   ]
  },
  {
   "cell_type": "code",
   "execution_count": 6,
   "id": "31976788-42d9-4134-95f6-5dd0aeec50cd",
   "metadata": {},
   "outputs": [
    {
     "data": {
      "text/plain": [
       "2"
      ]
     },
     "execution_count": 6,
     "metadata": {},
     "output_type": "execute_result"
    }
   ],
   "source": [
    "arr.item(0)"
   ]
  },
  {
   "cell_type": "code",
   "execution_count": 7,
   "id": "63bc7ba8-a8bd-4fc6-b3f4-53be4b4bdd23",
   "metadata": {},
   "outputs": [
    {
     "data": {
      "text/plain": [
       "16"
      ]
     },
     "execution_count": 7,
     "metadata": {},
     "output_type": "execute_result"
    }
   ],
   "source": [
    "bar.item(2)"
   ]
  },
  {
   "cell_type": "markdown",
   "id": "32cd85eb-7fd8-4284-963d-426e46ab0a38",
   "metadata": {},
   "source": [
    "Python has several built-in functions that are useful for arrays. These include `min`, `max`, `sum`, and `len`. `np.mean` is also a useful one."
   ]
  },
  {
   "cell_type": "code",
   "execution_count": 8,
   "id": "6a93a7cc-9e0e-4291-a16d-5382d0db2a6b",
   "metadata": {},
   "outputs": [
    {
     "name": "stdout",
     "output_type": "stream",
     "text": [
      "Min: 2.1\n",
      "Max: 9.8\n",
      "Sum: 24.8\n",
      "Mean: 6.2\n",
      "Length: 4\n"
     ]
    }
   ],
   "source": [
    "my_arr = make_array(5.6, 9.8, 7.3, 2.1)\n",
    "print(\"Min:\", min(my_arr))\n",
    "print(\"Max:\", max(my_arr))\n",
    "print(\"Sum:\", sum(my_arr))\n",
    "print(\"Mean:\", np.mean(my_arr))\n",
    "print(\"Length:\", len(my_arr))"
   ]
  },
  {
   "cell_type": "markdown",
   "id": "70756719-c158-44d6-b0ea-b31ac7f2b4c7",
   "metadata": {},
   "source": [
    "## Tables"
   ]
  },
  {
   "cell_type": "markdown",
   "id": "5e3cb20e-c3f6-4757-9852-92d47bf05390",
   "metadata": {},
   "source": [
    "A **table** is a sequence of labeled columns where each column describes a single attribute of all entries in a dataset. Each row contains all the attribute information about that entry in the dataset."
   ]
  },
  {
   "cell_type": "code",
   "execution_count": 9,
   "id": "3265343c-310b-47b6-b90d-dca2420fa5cb",
   "metadata": {},
   "outputs": [
    {
     "data": {
      "text/html": [
       "<table border=\"1\" class=\"dataframe\">\n",
       "    <thead>\n",
       "        <tr>\n",
       "            <th>City</th> <th>Daily CO2 Emissions (tons)</th>\n",
       "        </tr>\n",
       "    </thead>\n",
       "    <tbody>\n",
       "        <tr>\n",
       "            <td>Berkeley </td> <td>5900                      </td>\n",
       "        </tr>\n",
       "        <tr>\n",
       "            <td>Sunnyvale</td> <td>6100                      </td>\n",
       "        </tr>\n",
       "        <tr>\n",
       "            <td>Marin    </td> <td>2900                      </td>\n",
       "        </tr>\n",
       "    </tbody>\n",
       "</table>"
      ],
      "text/plain": [
       "City      | Daily CO2 Emissions (tons)\n",
       "Berkeley  | 5900\n",
       "Sunnyvale | 6100\n",
       "Marin     | 2900"
      ]
     },
     "execution_count": 9,
     "metadata": {},
     "output_type": "execute_result"
    }
   ],
   "source": [
    "emissions = Table().with_columns(\"City\", make_array(\"Berkeley\", \"Sunnyvale\", \"Marin\"), \"Daily CO2 Emissions (tons)\", make_array(5900, 6100, 2900))\n",
    "emissions"
   ]
  },
  {
   "cell_type": "markdown",
   "id": "cc3d5ecd-d7a1-4913-bc13-9e16c892e2ce",
   "metadata": {},
   "source": [
    "You can access a column as an array with the function `tbl.column(column_name_or_index)`. You can identify the column you want by its label or by its index."
   ]
  },
  {
   "cell_type": "code",
   "execution_count": 10,
   "id": "f7c7a9af-f95d-4f14-8166-00b53f76a8f7",
   "metadata": {},
   "outputs": [
    {
     "data": {
      "text/plain": [
       "array(['Berkeley', 'Sunnyvale', 'Marin'],\n",
       "      dtype='<U9')"
      ]
     },
     "execution_count": 10,
     "metadata": {},
     "output_type": "execute_result"
    }
   ],
   "source": [
    "emissions.column('City')"
   ]
  },
  {
   "cell_type": "code",
   "execution_count": 11,
   "id": "cc395848-bd87-4349-88a2-a793cd957c16",
   "metadata": {},
   "outputs": [
    {
     "data": {
      "text/plain": [
       "array(['Berkeley', 'Sunnyvale', 'Marin'],\n",
       "      dtype='<U9')"
      ]
     },
     "execution_count": 11,
     "metadata": {},
     "output_type": "execute_result"
    }
   ],
   "source": [
    "emissions.column(0)"
   ]
  },
  {
   "cell_type": "markdown",
   "id": "274ca3c0-7706-4cee-9d4b-3625164ed85f",
   "metadata": {},
   "source": [
    "You can add an array of data to the table to using `tbl.with_columns(name1, values1, name2, values2,...)`."
   ]
  },
  {
   "cell_type": "code",
   "execution_count": 12,
   "id": "6d3b4a07-37b0-40c4-b964-c0dca942567b",
   "metadata": {},
   "outputs": [
    {
     "data": {
      "text/html": [
       "<table border=\"1\" class=\"dataframe\">\n",
       "    <thead>\n",
       "        <tr>\n",
       "            <th>City</th> <th>Daily CO2 Emissions (tons)</th> <th>Daily CO2 Emissions (pounds)</th>\n",
       "        </tr>\n",
       "    </thead>\n",
       "    <tbody>\n",
       "        <tr>\n",
       "            <td>Berkeley </td> <td>5900                      </td> <td>11800000                    </td>\n",
       "        </tr>\n",
       "        <tr>\n",
       "            <td>Sunnyvale</td> <td>6100                      </td> <td>12200000                    </td>\n",
       "        </tr>\n",
       "        <tr>\n",
       "            <td>Marin    </td> <td>2900                      </td> <td>5800000                     </td>\n",
       "        </tr>\n",
       "    </tbody>\n",
       "</table>"
      ],
      "text/plain": [
       "City      | Daily CO2 Emissions (tons) | Daily CO2 Emissions (pounds)\n",
       "Berkeley  | 5900                       | 11800000\n",
       "Sunnyvale | 6100                       | 12200000\n",
       "Marin     | 2900                       | 5800000"
      ]
     },
     "execution_count": 12,
     "metadata": {},
     "output_type": "execute_result"
    }
   ],
   "source": [
    "emissions_in_pounds = emissions.column(\"Daily CO2 Emissions (tons)\") * 2000\n",
    "emissions = emissions.with_column(\"Daily CO2 Emissions (pounds)\", emissions_in_pounds)\n",
    "emissions"
   ]
  },
  {
   "cell_type": "markdown",
   "id": "9f26d23b-b798-43df-aac6-5320caf23954",
   "metadata": {},
   "source": [
    "# Data Types, Extending Tables"
   ]
  },
  {
   "cell_type": "markdown",
   "id": "a30f6484-78be-4f50-bb04-fed24b86f86b",
   "metadata": {},
   "source": [
    "## np.arange\n",
    "\n",
    "Oftentimes when programming we will want to generate a sequence of numbers as an array. Instead of manually writing out the numbers we want with `make_array`, it's easier to use `np.arange(start, stop, step)`. We start counting at `start`. Each successive element in the array is `step` larger than the last. We stop counting at `stop`, but we don't include `stop` in the array."
   ]
  },
  {
   "cell_type": "code",
   "execution_count": 13,
   "id": "74cf7c38-6edf-4fd5-97ec-b24deea42c59",
   "metadata": {},
   "outputs": [
    {
     "data": {
      "text/plain": [
       "array([3, 6, 9])"
      ]
     },
     "execution_count": 13,
     "metadata": {},
     "output_type": "execute_result"
    }
   ],
   "source": [
    "np.arange(3, 12, 3)"
   ]
  },
  {
   "cell_type": "markdown",
   "id": "51dcefae-0d95-4c8a-a3c1-92429b3de2fe",
   "metadata": {},
   "source": [
    "If you don't include a `step`, python assumes you want to step forward by `1`."
   ]
  },
  {
   "cell_type": "code",
   "execution_count": 14,
   "id": "93b0562f-fb33-45a4-94cf-cf7b2443e4b8",
   "metadata": {},
   "outputs": [
    {
     "data": {
      "text/plain": [
       "array([1, 2, 3, 4])"
      ]
     },
     "execution_count": 14,
     "metadata": {},
     "output_type": "execute_result"
    }
   ],
   "source": [
    "np.arange(1, 5)"
   ]
  },
  {
   "cell_type": "markdown",
   "id": "891e4410-8742-4161-baf0-a9fc2813aee7",
   "metadata": {},
   "source": [
    "If you don't include a `start` or a `step`, python assumes you want to start counting at `0` and step forward by `1`."
   ]
  },
  {
   "cell_type": "code",
   "execution_count": 15,
   "id": "f9003f1b-13f8-4500-b614-e3b6a92bef84",
   "metadata": {},
   "outputs": [
    {
     "data": {
      "text/plain": [
       "array([0, 1, 2])"
      ]
     },
     "execution_count": 15,
     "metadata": {},
     "output_type": "execute_result"
    }
   ],
   "source": [
    "np.arange(3)"
   ]
  },
  {
   "cell_type": "markdown",
   "id": "1804a3bf-473b-45dd-aa52-78daad348f29",
   "metadata": {},
   "source": [
    "## Manipulating Tables"
   ]
  },
  {
   "cell_type": "markdown",
   "id": "d898b9df-0c25-46ad-8895-cc08f6acd17e",
   "metadata": {},
   "source": [
    "There are a whole bunch of functions to manipulate tables. The best way to get comfortable with them is with lots of practice and use of the [Python Reference](https://www.data8.org/su23/reference/). Here are a few that I'd like to highlight:\n",
    "\n",
    "`tbl.select(col1, col2, ...)` takes any number of arguments and creates a copy of a table with only some of the columns. Each column is the column name or index. This is often confused with `tbl.column(col)`, which takes in just one argument and returns the data in that column as an array.\n",
    "\n",
    "`tbl.sort(col, descending)` rearranges the rows such that the data in `col` is sorted. Sorting is done in ascending order unless the optional argument `descending=True` is specified. You can sort by strings, too. In this case sorting is done by alphabetial order, but all capital letters come before all lowercase letters (i.e. `\"A\"` < `\"B\"` < ... < `\"a\"` < ... < `\"z\"`) \n",
    "\n",
    "`tbl.where(column, predicate)` filters a table such that it only includes rows where the data in `column` satisfies `predicate`. If you specify a simple data type instead of a predicate, python assumes you mean `are.equal_to(_____)`. For example `tbl.where(\"score\", are.equal_to(7))` is the same as `tbl.where(\"score\", 7)`."
   ]
  },
  {
   "cell_type": "markdown",
   "id": "084db213-d580-49be-b72a-e097b196a5c1",
   "metadata": {},
   "source": [
    "## Strings\n",
    "\n",
    "**Strings** are sequences of characters. \n",
    "\n",
    "Adding strings concatenates them."
   ]
  },
  {
   "cell_type": "code",
   "execution_count": 16,
   "id": "0c5e51eb-1a38-490c-8d62-6b35f440e86b",
   "metadata": {},
   "outputs": [
    {
     "data": {
      "text/plain": [
       "'okhi'"
      ]
     },
     "execution_count": 16,
     "metadata": {},
     "output_type": "execute_result"
    }
   ],
   "source": [
    "expression = 'ok'\n",
    "greeting = 'hi'\n",
    "expression + greeting"
   ]
  },
  {
   "cell_type": "markdown",
   "id": "d1e7fe72-3a76-407c-b01c-696f808a872b",
   "metadata": {},
   "source": [
    "Multiplying a string by an integer repeats the string."
   ]
  },
  {
   "cell_type": "code",
   "execution_count": 17,
   "id": "6f87edfa-c225-4bc7-be8d-336481ae36d5",
   "metadata": {},
   "outputs": [
    {
     "data": {
      "text/plain": [
       "'hihihi'"
      ]
     },
     "execution_count": 17,
     "metadata": {},
     "output_type": "execute_result"
    }
   ],
   "source": [
    "greeting * 3"
   ]
  },
  {
   "cell_type": "markdown",
   "id": "2ffeee08-cabf-46ec-b777-72c51d518626",
   "metadata": {},
   "source": [
    "Oftentimes in data science it is necessary to clean raw data into a form that we can do data science with. One useful tool to do this is type conversion functions `int()`, `float()`, and `str()`."
   ]
  },
  {
   "cell_type": "code",
   "execution_count": 18,
   "id": "88728dbb-b87f-4e6b-9f74-3365277923dd",
   "metadata": {},
   "outputs": [
    {
     "name": "stdout",
     "output_type": "stream",
     "text": [
      "data has type  <class 'str'>\n"
     ]
    }
   ],
   "source": [
    "data = '8.2'\n",
    "print('data has type ', type(data))"
   ]
  },
  {
   "cell_type": "code",
   "execution_count": 19,
   "id": "cf8bf168-4029-47d6-a0a6-034b232f497b",
   "metadata": {},
   "outputs": [
    {
     "name": "stdout",
     "output_type": "stream",
     "text": [
      "data has type  <class 'float'>\n"
     ]
    }
   ],
   "source": [
    "data = float(data)\n",
    "print('data has type ', type(data))"
   ]
  },
  {
   "cell_type": "markdown",
   "id": "a9c17c81-5450-49d7-a64e-5cb16be59ca9",
   "metadata": {},
   "source": [
    "Check out the string methods section of the [Python Reference](https://www.data8.org/su23/reference/) for more tools to manipulate strings."
   ]
  },
  {
   "cell_type": "markdown",
   "id": "aabe64f3-8287-4110-894b-203546d650ae",
   "metadata": {
    "tags": []
   },
   "source": [
    "## Types of Variables in Statistics"
   ]
  },
  {
   "cell_type": "markdown",
   "id": "8c853791-8dcc-4aa7-bc82-588504ae1e57",
   "metadata": {},
   "source": [
    "**Quantitative variables** are measured numerically. Doing arithmetic with these numbers makes sense. Examples include data that is measured in units of height, people, or miles per hour.\n",
    "\n",
    "**Categorical variables** are categories into which you can place individuals. Doing arithmetic with these numbers does not sense. Examples include book genres, nationalities, or telephone providers.\n",
    "\n",
    "One thing to take note of is that variables that are represented by numbers *can* be categorical. A good example of this is American primary school grades. Even though they are represented by the integers 1-12, they are moreso categories than numerical attributes and you cannot do arithmetic with them. A first grader plus a fourth grader doesn't make a fifth grader!"
   ]
  },
  {
   "cell_type": "markdown",
   "id": "bb292f29-1853-4cc7-8501-cbf58222f853",
   "metadata": {},
   "source": [
    "# Visualizations, Functions"
   ]
  },
  {
   "cell_type": "markdown",
   "id": "72a85193-f77c-4151-9078-90efd04f39ba",
   "metadata": {},
   "source": [
    "## Histograms"
   ]
  },
  {
   "cell_type": "markdown",
   "id": "c77a9b52-44dc-4360-84c8-2ddb9e5e6fc2",
   "metadata": {},
   "source": [
    "**Histograms** are used to visualize univariate numerical data."
   ]
  },
  {
   "cell_type": "code",
   "execution_count": 20,
   "id": "0eb02e62-f342-426e-8f72-14463801c752",
   "metadata": {},
   "outputs": [
    {
     "data": {
      "image/png": "[encoded data removed]",
      "text/plain": [
       "<Figure size 600x400 with 1 Axes>"
      ]
     },
     "metadata": {},
     "output_type": "display_data"
    }
   ],
   "source": [
    "bugs = Table().with_columns(\"Bug Length\", make_array(0.2, 0.4, 0.9, 1.0, 1.3, 2.0, 2.4, 3.0, 4, 5.8))\n",
    "bugs.hist(\"Bug Length\", unit=\"cm\", bins=make_array(0, 1, 2, 7))"
   ]
  },
  {
   "cell_type": "markdown",
   "id": "a6d32d8a-14b8-4049-8798-c30b832fb1de",
   "metadata": {},
   "source": [
    "The x-axis is in terms of the units attached to data we are measuring. The y-axis is a measure of density, or percent per unit. Bins are inclusive on the left end and exclusive on the right end. So a bug measured to be exactly 1 cm would go in the middle bin, not the leftmost bin. As in the above histogram, not all bins have to be the same width.\n",
    "\n",
    "A key takeaway from histograms is the area principle:\n",
    "\n",
    "$$\\text{area of a bar} = \\text{percent of all entries that fall in that bin} = \\text{height} \\times \\text{width}$$ \n",
    "\n",
    "To convince yourself of why this is true, think about how the units cancel out. For example in the above case, we have \n",
    "\n",
    "$$(\\text{height units}) \\times (\\text{width units}) = \\frac{\\text{percent}}{\\text{cm}} \\times \\text{cm} = \\text{percent}$$.\n",
    "\n",
    "A consequence of the area principle is that the sum of all the area should sum to $100\\%$.\n",
    "\n",
    "A common misconception is that the height of the bar is representative of the percent of data in the bin. Rather, height is a measure of how \"crowded\" or dense a bin is. For example, in the above histogram, the tallest bar contains $30 \\; \\frac{\\text{percent}}{\\text{cm}} \\; \\times 1 \\text{ cm } = 30 \\text{ percent}$ of bugs, whereas the shortest bar contains $10 \\frac{\\text{percent}}{\\text{cm}} \\times 5 \\text{cm} = 50 \\text{ percent}$ of bugs."
   ]
  },
  {
   "cell_type": "markdown",
   "id": "5bbb88a0-c46b-4156-a322-f19d6a6d4b39",
   "metadata": {},
   "source": [
    "## Functions"
   ]
  },
  {
   "cell_type": "markdown",
   "id": "9ab3bd60-664c-45a7-91a7-9cff6d1b4250",
   "metadata": {},
   "source": [
    "So far we have worked with functions that have been defined for us. We can define our own functions. Below is a function that takes in a number of feet and converts it to the corresponding number of inches."
   ]
  },
  {
   "cell_type": "code",
   "execution_count": 21,
   "id": "e1ed58b8-4560-4890-88fb-b467ac3a4646",
   "metadata": {},
   "outputs": [],
   "source": [
    "def ft_to_in(feet):\n",
    "    \"\"\"Convert feet to inches\"\"\"\n",
    "    inches = feet * 12\n",
    "    return inches"
   ]
  },
  {
   "cell_type": "markdown",
   "id": "c14abcd3-7ce4-49df-a2be-88847e804626",
   "metadata": {},
   "source": [
    "- `def` is a word to that tells python we are about to define our own function.\n",
    "- `ft_to_in(feet)` is the **signature** of the function. It is made up of 2 parts.\n",
    "    - `ft_to_in` is the **name** of the function\n",
    "    - `feet` is an **argument** to the function, or what is input into the function when it is called. Functions you define can take in any number of arguments (including zero)\n",
    "- `\"\"\"Convert feet to inches\"\"\"` is the **docstring**, a description of what the function does. \n",
    "\n",
    "When the function is called, the **body**, or indented block of code under the signature.  will be run. The special instruction `return` is part of the function's body and tells Python to make the value of the function call equal to whatever comes right after `return`. Once python encounters a `return` statement it will stop executing the function body."
   ]
  },
  {
   "cell_type": "markdown",
   "id": "13456082-e756-42ab-afff-c92bfd4ccfd7",
   "metadata": {},
   "source": [
    "We will often want to save the call to a function with an assignment statement so we can refer to it later."
   ]
  },
  {
   "cell_type": "code",
   "execution_count": 22,
   "id": "5edc7e3b-58a9-4269-98ff-f300ce9d135a",
   "metadata": {},
   "outputs": [
    {
     "data": {
      "text/plain": [
       "76.0"
      ]
     },
     "execution_count": 22,
     "metadata": {},
     "output_type": "execute_result"
    }
   ],
   "source": [
    "my_height_ft = 6 + 1/3\n",
    "my_height_in = ft_to_in(my_height_ft)\n",
    "my_height_in"
   ]
  },
  {
   "cell_type": "markdown",
   "id": "d61e297c-0f4d-46c2-8ec5-fdd85591f518",
   "metadata": {},
   "source": [
    "Variables defined inside the body of the function do not persist outside of the function."
   ]
  },
  {
   "cell_type": "code",
   "execution_count": 23,
   "id": "9bf8a21e-6a2a-4904-95aa-fe12b3b3731e",
   "metadata": {},
   "outputs": [
    {
     "ename": "NameError",
     "evalue": "name 'inches' is not defined",
     "output_type": "error",
     "traceback": [
      "\u001b[0;31m---------------------------------------------------------------------------\u001b[0m",
      "\u001b[0;31mNameError\u001b[0m                                 Traceback (most recent call last)",
      "Cell \u001b[0;32mIn[23], line 1\u001b[0m\n\u001b[0;32m----> 1\u001b[0m \u001b[43minches\u001b[49m\n",
      "\u001b[0;31mNameError\u001b[0m: name 'inches' is not defined"
     ]
    }
   ],
   "source": [
    "inches"
   ]
  },
  {
   "cell_type": "markdown",
   "id": "9a9b9a20-9002-4633-a0aa-7cc3813a7239",
   "metadata": {},
   "source": [
    "A common pattern you will see in Data 8 is the use of functions on tabular data with `tbl.apply(function, col1, col2, ...)`. It returns an array of values resulting from applying `function` to each item in the specified column(s)."
   ]
  },
  {
   "cell_type": "markdown",
   "id": "4c2ffe3f-ed32-45de-897b-fef8836ebb22",
   "metadata": {},
   "source": [
    "# Conditional Statements, Iteration, Tables"
   ]
  },
  {
   "cell_type": "markdown",
   "id": "0e1d22e1-1e97-43da-9e55-65dd03f737eb",
   "metadata": {},
   "source": [
    "## Conditional Statements"
   ]
  },
  {
   "cell_type": "markdown",
   "id": "392f550b-9c5b-4572-8faa-7d99d9557956",
   "metadata": {},
   "source": [
    "A **boolean expression** is an operation that evaluates to `True` or `False`."
   ]
  },
  {
   "cell_type": "code",
   "execution_count": 24,
   "id": "174acb5d-4757-49b8-be63-4d9f21fb13ca",
   "metadata": {},
   "outputs": [
    {
     "data": {
      "text/plain": [
       "False"
      ]
     },
     "execution_count": 24,
     "metadata": {},
     "output_type": "execute_result"
    }
   ],
   "source": [
    "3 > 9"
   ]
  },
  {
   "cell_type": "code",
   "execution_count": 25,
   "id": "157a51b8-9c70-4efb-8659-6c2683e133f9",
   "metadata": {},
   "outputs": [
    {
     "data": {
      "text/plain": [
       "True"
      ]
     },
     "execution_count": 25,
     "metadata": {},
     "output_type": "execute_result"
    }
   ],
   "source": [
    "4 == int(4.8)"
   ]
  },
  {
   "cell_type": "code",
   "execution_count": 26,
   "id": "43b782e0-1504-488a-81d3-f9f28eef4d49",
   "metadata": {},
   "outputs": [
    {
     "data": {
      "text/plain": [
       "True"
      ]
     },
     "execution_count": 26,
     "metadata": {},
     "output_type": "execute_result"
    }
   ],
   "source": [
    "5 != 2 + 4"
   ]
  },
  {
   "cell_type": "markdown",
   "id": "fad51404-3962-43f0-aeaf-73ef7cd15439",
   "metadata": {},
   "source": [
    "**Conditional statements** are used to control which lines of code run. Conditional statements follow this format:\n",
    "\n",
    "```\n",
    "if <if expression>:\n",
    "    <if body>\n",
    "elif <elif expression 0>:\n",
    "    <elif body 0>\n",
    "elif <elif expression 1>:\n",
    "    <elif body 1>\n",
    "...\n",
    "else:\n",
    "    <else body>\n",
    "```\n",
    "\n",
    "There is always 1 `if`, 0 or more `elif`s, and 0 or 1 `else`s. If one of the boolean expressions following an `if` or `elif` is `True`, the corresponding body is executed and the rest of the conditional statement is skipped. If the `else` is reached, then the corresponding body is run no matter what.\n",
    "\n",
    "Here's some code that prints my letter grade given my score in the class:"
   ]
  },
  {
   "cell_type": "code",
   "execution_count": 27,
   "id": "6bc3475e-7d77-473d-9548-574b57ab09da",
   "metadata": {},
   "outputs": [],
   "source": [
    "def print_grade(score):\n",
    "    if score >= 90:\n",
    "        print('A')\n",
    "    elif score >= 80:\n",
    "        print('B')\n",
    "    elif score >= 70:\n",
    "        print('C')\n",
    "    elif score >= 60:\n",
    "        print('D')\n",
    "    else:\n",
    "        print('F')"
   ]
  },
  {
   "cell_type": "code",
   "execution_count": 28,
   "id": "68089bf5-5d64-4035-bbcc-f45b4c4cab40",
   "metadata": {},
   "outputs": [
    {
     "name": "stdout",
     "output_type": "stream",
     "text": [
      "B\n"
     ]
    }
   ],
   "source": [
    "print_grade(82)"
   ]
  },
  {
   "cell_type": "markdown",
   "id": "0719b012-93da-4216-aa84-17bbae8e9680",
   "metadata": {
    "tags": []
   },
   "source": [
    "Observe the difference between the `print_grade` and `print_grade_buggy`. Why is the behavior different?"
   ]
  },
  {
   "cell_type": "code",
   "execution_count": 29,
   "id": "834064b5-9fed-455b-ad18-c6590fd56300",
   "metadata": {},
   "outputs": [],
   "source": [
    "def print_grade_buggy(score):\n",
    "    if score >= 90:\n",
    "        print('A')\n",
    "    if score >= 80:\n",
    "        print('B')\n",
    "    if score >= 70:\n",
    "        print('C')\n",
    "    if score >= 60:\n",
    "        print('D')\n",
    "    else:\n",
    "        print('F')"
   ]
  },
  {
   "cell_type": "code",
   "execution_count": 30,
   "id": "b53ba21b-3abe-4bdd-a19e-60630052756d",
   "metadata": {},
   "outputs": [
    {
     "name": "stdout",
     "output_type": "stream",
     "text": [
      "B\n",
      "C\n",
      "D\n"
     ]
    }
   ],
   "source": [
    "print_grade_buggy(82)"
   ]
  },
  {
   "cell_type": "markdown",
   "id": "d8419a09-b4cf-447a-924c-edddbdf55548",
   "metadata": {},
   "source": [
    "## Iteration"
   ]
  },
  {
   "cell_type": "markdown",
   "id": "58b2c0e4-1894-4539-b2da-346ab95971ad",
   "metadata": {},
   "source": [
    "**Iteration** is useful for executing a block of code repeatedly. There are two uses of iteration you will use in Data 8. The first is iterating through a range of numbers using `np.arange`. \n",
    "\n",
    "Observe how the code block is run one time for each of the values in `np.arange(1, 5)`."
   ]
  },
  {
   "cell_type": "code",
   "execution_count": 31,
   "id": "522177ed-ad24-4c35-85f8-36cfaaa76058",
   "metadata": {},
   "outputs": [
    {
     "name": "stdout",
     "output_type": "stream",
     "text": [
      "Knock \n",
      "Knock Knock \n",
      "Knock Knock Knock \n",
      "Knock Knock Knock Knock \n"
     ]
    }
   ],
   "source": [
    "for i in np.arange(1, 5):\n",
    "    print(\"Knock \" * i)"
   ]
  },
  {
   "cell_type": "markdown",
   "id": "5350a067-2474-4ec9-913e-94e342863502",
   "metadata": {},
   "source": [
    "The other is iterating through the elements in an array."
   ]
  },
  {
   "cell_type": "code",
   "execution_count": 32,
   "id": "d9263aab-b9a8-4c5b-8435-066c68b35b88",
   "metadata": {},
   "outputs": [
    {
     "name": "stdout",
     "output_type": "stream",
     "text": [
      "Hi, Kristen\n",
      "Hi, Nikil\n",
      "Hi, Eunice\n"
     ]
    }
   ],
   "source": [
    "names = make_array(\"Kristen\", \"Nikil\", \"Eunice\")\n",
    "for name in names:\n",
    "    print('Hi,', name)"
   ]
  },
  {
   "cell_type": "markdown",
   "id": "1b318824-bec8-44bc-9bb1-2962fbe87368",
   "metadata": {},
   "source": [
    "## Group and Pivot"
   ]
  },
  {
   "cell_type": "markdown",
   "id": "16bb0ef5-4825-43a7-a850-1d45034977cf",
   "metadata": {},
   "source": [
    "`tbl.group(column, func)` allows us to aggregate over unique values of a column. Each distinct value in `column` gets its own row."
   ]
  },
  {
   "cell_type": "markdown",
   "id": "604351c4-4a73-455a-a3a5-b0e4d0103636",
   "metadata": {},
   "source": [
    "`tbl.pivot(col1, col2, values, collect)` allows us to each unique value in `col1` has its own column and each unique value in `col2` has its own row.  `values` specifies the data that goes in each cell. `collect` specifies how the data is aggregated. "
   ]
  },
  {
   "cell_type": "markdown",
   "id": "73981dd0-a44d-4df7-b9de-926b12983aa8",
   "metadata": {},
   "source": [
    "The best way to learn about these functions is with the [Table Function Visualizer](https://www.data8.org/interactive_table_functions/)."
   ]
  },
  {
   "cell_type": "markdown",
   "id": "7549ac1b-d691-436d-bc6d-0bf6c02483dc",
   "metadata": {},
   "source": [
    "# Assessing Models"
   ]
  },
  {
   "cell_type": "markdown",
   "id": "b5d435e5-e455-494a-acae-b2d63bdef1f8",
   "metadata": {},
   "source": [
    "## Hypothesis Testing"
   ]
  },
  {
   "cell_type": "markdown",
   "id": "a9386d3a-9417-40b0-90b3-0ca7f006f5b5",
   "metadata": {},
   "source": [
    "A **test** chooses between two views of how data were generated. The views are called **hypotheses**. The test picks the hypothesis that is better supported by the observed data.\n",
    "1. Observe something strange (doesn’t align with reality).\n",
    "2. Define the **null hypothesis** and **alternative hypothesis**.\n",
    "    - Null: Well-defined chance model, able to be simulated under\n",
    "    - Alternative: Opposes the null, never simulate under alternative hypothesis\n",
    "3. Define a **test statistic** - a single number to represent outcome of one trial.\n",
    "    - How do we choose? Depends on the alternative, want more extreme values of test statistic to lean towards the alternative hypothesis\n",
    "4. Compute the observed value of test statistic, leave it alone!\n",
    "5. Run your simulation under the null hypothesis.\n",
    "    - Completely ignore alternative hypothesis and observed test statistic.\n",
    "    - For each trial (we do ~1000 trials), we simulate and then calculate our simulated test statistic.\n",
    "    - At the end, you’ll have 1000 simulated test statistics.\n",
    "6. Compare your observed test and simulated statistics (draw a histogram).\n",
    "    - Compute your **p-value**, or the proportion of times the simulated statistic was as extreme or more extreme than the observed statistic in the direction of the alternative\n",
    "7. Conclude your test with an appropriate p-value cutoff."
   ]
  },
  {
   "cell_type": "markdown",
   "id": "20135599-c8a6-4380-bcc2-8dff80b617c7",
   "metadata": {},
   "source": [
    "## Total Variation Distance"
   ]
  },
  {
   "cell_type": "markdown",
   "id": "eb21273f-8a59-49c3-81b4-591aee667ec0",
   "metadata": {},
   "source": [
    "**Total variation distance** is a test statistic for categorical data in which there are multiple categories (e.g. school years: freshman, sophomore, junior, senior). It measures the distance between 2 distributions. \n",
    "1. For each category, compute the difference in proportions between two distributions\n",
    "2. Take the absolute value of each difference\n",
    "3. Sum, and then divide the sum by 2"
   ]
  },
  {
   "cell_type": "markdown",
   "id": "fe5c2fd6-98bf-4825-8aa6-d90e47005e90",
   "metadata": {},
   "source": [
    "# A/B Testing"
   ]
  },
  {
   "cell_type": "markdown",
   "id": "fc7b70b0-421b-44e1-b2e9-e849d3ce6848",
   "metadata": {},
   "source": [
    "In the previous lab, we focused on testing hypotheses for data that comes from 1 sample. **A/B testing** is a framework used to test whether 2 samples come from the same underlying distribution.\n",
    "1. Define hypotheses.\n",
    "2. Define test statistic (often difference in means between 2 categories).\n",
    "3. Calculate observed statistic.\n",
    "4. Shuffle the labels of the original sample, find test statistic and repeat.\n",
    "5. Calculate the p-value.\n",
    "6. Use the p-value and p-value cutoff to draw a conclusion about the null hypothesis."
   ]
  },
  {
   "cell_type": "markdown",
   "id": "7b41e6a0-8b92-498c-810b-ee8b007f6e2d",
   "metadata": {},
   "source": [
    "# Confidence Intervals"
   ]
  },
  {
   "cell_type": "markdown",
   "id": "5d4f685a-d121-4213-b786-07c158202baf",
   "metadata": {},
   "source": [
    "In statistics, we often want to learn about some **parameter** (i.e. property) of a **population**. One way to do this is to conduct a **census**. For example, if the parameter I am interested in is the mean blood pressure of Americans, I could go around and ask every American their blood pressure. This is too hard!\n",
    "\n",
    "Instead, what researchers typically do is select a random **sample** of individuals to calculate a **statistic**, or an estimate of the parameter. Since the sample is random, so is our statistic. This process is known as statistical **inference**.\n",
    "\n",
    "A key question is how to deal with the uncertainty that comes with the randomness of our statistic. We can use **confidence intervals** to quantify this uncertainty.\n",
    "\n",
    "In Data 8, we use a process known as **bootstrapping** to repeatedly simulate sampling from the population. Since our original sample was large and random, it is a reasonable approximation of the population distribution. Therefore, we repeatedly sample *with replacement* with a sample size equal to the size of the original sample. For each resample, we recalculate the sample statistic. Then, for an $n \\%$ confidence interval, we take the middle $n \\%$ of the resampled data. The `percentile(percentile, array)` function is useful for this."
   ]
  },
  {
   "cell_type": "markdown",
   "id": "0b9543f5-2a68-4233-b2a9-49abc925f2ba",
   "metadata": {},
   "source": [
    "# Sample Means"
   ]
  },
  {
   "cell_type": "markdown",
   "id": "b211a02c-56f8-45d5-bb83-de1a6e3167e2",
   "metadata": {},
   "source": [
    "## Standard Deviation"
   ]
  },
  {
   "cell_type": "markdown",
   "id": "bef3c889-89da-44d6-88e4-0cd42e84fb28",
   "metadata": {},
   "source": [
    "**Standard deviation** measures roughly how far the numbers in a dataset are from their average. To calculate standard deviation, find the root mean square of deviations from average (carry out the operations from right to left)."
   ]
  },
  {
   "cell_type": "code",
   "execution_count": 33,
   "id": "e2d95a37-69cd-4211-82f4-322909c08a63",
   "metadata": {},
   "outputs": [
    {
     "data": {
      "text/plain": [
       "3.2403703492039302"
      ]
     },
     "execution_count": 33,
     "metadata": {},
     "output_type": "execute_result"
    }
   ],
   "source": [
    "arr = make_array(3, 4, 0, 9)\n",
    "deviations_from_average = arr - np.mean(arr)\n",
    "square_of_deviations_from_average = deviations_from_average ** 2\n",
    "mean_square_of_deviations_from_average = np.mean(square_of_deviations_from_average)\n",
    "sd = mean_square_of_deviations_from_average ** 0.5\n",
    "sd"
   ]
  },
  {
   "cell_type": "markdown",
   "id": "7f33203b-b35b-43ca-9a19-d3b9a23b9d78",
   "metadata": {},
   "source": [
    "Thankfully, `np.std(arr)` can do this process for us."
   ]
  },
  {
   "cell_type": "code",
   "execution_count": 34,
   "id": "7cc41136-bf66-4c0e-850e-cd2a3945bfac",
   "metadata": {},
   "outputs": [
    {
     "data": {
      "text/plain": [
       "3.2403703492039302"
      ]
     },
     "execution_count": 34,
     "metadata": {},
     "output_type": "execute_result"
    }
   ],
   "source": [
    "np.std(arr)"
   ]
  },
  {
   "cell_type": "markdown",
   "id": "fe4e99aa-73d6-45e3-b021-700370b50081",
   "metadata": {},
   "source": [
    "## Standard Units"
   ]
  },
  {
   "cell_type": "markdown",
   "id": "24c94934-d319-49ba-ac77-88c12e824e93",
   "metadata": {},
   "source": [
    "**Standard units**, often represented with the letter $z$, measure the number of standard deviations a data point is from the mean.\n",
    "\n",
    "$$z = \\frac{\\text{value} - \\text{average}}{\\text{SD}}$$\n",
    "\n",
    "Converting a list of numbers to standard units makes the mean $0$ and the SD $1$."
   ]
  },
  {
   "cell_type": "markdown",
   "id": "4f8ba865-1ca2-4143-9be7-c05e8f2ea678",
   "metadata": {},
   "source": [
    "## Bounding a Distribution"
   ]
  },
  {
   "cell_type": "markdown",
   "id": "0d1e318b-bf9d-4f84-80bf-89b18bd9e484",
   "metadata": {},
   "source": [
    "**Chebyshev's Bounds** says that no matter the shape of the distribution, the proportion of values within the range $k \\pm z$ SDs is at least $1 - \\frac{1}{k^2}$."
   ]
  },
  {
   "cell_type": "markdown",
   "id": "37e79f3f-c779-4104-b63c-6dabd8b6ebe8",
   "metadata": {
    "tags": []
   },
   "source": [
    "If we know a distribution is **normal**, we can do a lot better than Chevyshev's bounds. The **normal distribution** has some special properties. It is symmetrical about the mean and has **points of inflection** (points where the slope of the curve changes from increasing to decreasing) at exactly 1 SD from the mean in either direction.\n",
    "\n",
    "The **68-95-99.7 rule** says that if the distribution is normal, then the following applies:\n",
    "* About $68 \\%$ of the data lies within $\\pm 1$ SDs from the mean\n",
    "* About $95 \\%$ of the data lies within $\\pm 2$ SDs from the mean\n",
    "* About $99.7 \\%$ of the data lies within $\\pm 3$ SDs from the mean"
   ]
  },
  {
   "cell_type": "markdown",
   "id": "f1058591-4f7f-42de-906b-032b1e259751",
   "metadata": {},
   "source": [
    "## Central Limit Theorem"
   ]
  },
  {
   "cell_type": "markdown",
   "id": "e9243af4-6d7d-486c-92af-40a9a19ef177",
   "metadata": {},
   "source": [
    "The **central limit theorem** (CLT) says that the probability distribution of the sum or average of a large random sample drawn with replacement will be roughly normal, regardless of the distribution of the population from which the sample is drawn. \n",
    "\n",
    "For example, suppose I am interested in the proportion of coin flips that land heads. Here is the population distribution:"
   ]
  },
  {
   "cell_type": "code",
   "execution_count": 35,
   "id": "1e15be64-b125-4e6c-aaff-d191c1ea68aa",
   "metadata": {},
   "outputs": [
    {
     "data": {
      "image/png": "[encoded data removed]",
      "text/plain": [
       "<Figure size 600x400 with 1 Axes>"
      ]
     },
     "metadata": {},
     "output_type": "display_data"
    }
   ],
   "source": [
    "coin = make_array(0, 1)\n",
    "coin_tbl = Table().with_columns(\"Proportion Heads\", coin)\n",
    "coin_tbl.hist(bins=make_array(0, 0.5, 1))"
   ]
  },
  {
   "cell_type": "markdown",
   "id": "969f58b7-cedb-4c43-ae48-a3fd90838671",
   "metadata": {},
   "source": [
    "Even though this distribution is not normal whatsoever, check out what happens when we repeatedly take flip a coin 100 times and calculate the proportion of heads. This is the CLT in action!"
   ]
  },
  {
   "cell_type": "code",
   "execution_count": 36,
   "id": "c1da2567-ec97-476d-86ea-fa7f5d62105f",
   "metadata": {},
   "outputs": [
    {
     "data": {
      "image/png": "[encoded data removed]",
      "text/plain": [
       "<Figure size 600x400 with 1 Axes>"
      ]
     },
     "metadata": {},
     "output_type": "display_data"
    }
   ],
   "source": [
    "sample_means = make_array()\n",
    "for i in np.arange(100_000):\n",
    "    results = np.random.choice(coin, 100)\n",
    "    prop_heads = np.mean(results)\n",
    "    sample_means = np.append(sample_means, prop_heads)\n",
    "    \n",
    "sample_means_tbl = Table().with_columns(\"Proportion Heads\", sample_means)\n",
    "sample_means_tbl.hist(bins=np.arange(0.30, 0.70, 0.01))"
   ]
  },
  {
   "cell_type": "markdown",
   "id": "4c9b4d31-64fb-4759-bc76-13afcde67687",
   "metadata": {},
   "source": [
    "Often times in statistics, our parameter of interest is the mean of some population. A key question is how much we would expect sample means to vary from sample to sample. This relationship is given by\n",
    "\n",
    "$$\\text{SD of all sample means} = \\frac{\\text{population SD}}{\\sqrt{\\text{sample size}}}$$"
   ]
  },
  {
   "cell_type": "markdown",
   "id": "10f59558-32dd-452e-a0d6-ac633724b166",
   "metadata": {},
   "source": [
    "# Correlation, Association"
   ]
  },
  {
   "cell_type": "markdown",
   "id": "2a4757ac-c438-4880-88f8-bea4e18121d6",
   "metadata": {},
   "source": [
    "## Correlation Coefficient"
   ]
  },
  {
   "cell_type": "markdown",
   "id": "2769dc2b-1ea7-4040-b315-244861f5f1db",
   "metadata": {},
   "source": [
    "The **correlation coefficient** ($r$) measures the strength of the linear relationship between two variables.\n",
    "* $-1 \\le r \\le 1$\n",
    "* $r = -1$ implies a perfect negative correlation. This means you can draw a straight, downward-sloping line through all the points.\n",
    "* $r = 0$ implies no correlation. \n",
    "* $r = 1$ implies a perfect positive association. This means you can draw a straight, upward-sloping line through all the points.\n",
    "\n",
    "$r$ is the average of the products between x and y, when x and y are expressed in standard units. Because standard units are unitless, $r$ is also unitless. Changing the units of measurement of the data does not affect $r$. Also, switching the axes does no affect $r$.\n",
    "\n",
    "A high $|r|$ does not imply linear association. In Anscombe's Quartet, all 4 datasets have $r=0.816$, but not all of them have a linear association!\n",
    "\n",
    "<img src=\"imquartet.png\" width=600 height=600 class=\"center\"/>"
   ]
  },
  {
   "cell_type": "markdown",
   "id": "80f2dc4b-45c9-4639-994b-d707ed2c1174",
   "metadata": {},
   "source": [
    "## Regression"
   ]
  },
  {
   "cell_type": "markdown",
   "id": "1966406b-55fa-4149-a088-20d83311a187",
   "metadata": {},
   "source": [
    "In **regression**, we use the value of one variable (which we will call $x$) to predict the value of another (which we will call $y$). The equation of the regression line can be calculated in the following way:\n",
    "\n",
    "$$\\text{slope} = r \\cdot \\frac{\\text{SD of y}}{\\text{SD of x}}$$\n",
    "$$\\text{intercept} = \\text{average of y} - \\text{slope} \\cdot \\text{average of x}$$"
   ]
  },
  {
   "cell_type": "markdown",
   "id": "1a1dea88-dc72-4b1f-88d5-d6688c6b45f3",
   "metadata": {},
   "source": [
    "Recall that data in standard units has a mean of $0$ and an SD of $1$. Therefore, when $x$ and $y$ are expressed in standard units, the regression line is given by: \n",
    "$$\\text{slope} = r$$\n",
    "$$\\text{intercept} = 0$$"
   ]
  }
 ],
 "metadata": {
  "kernelspec": {
   "display_name": "Python 3 (ipykernel)",
   "language": "python",
   "name": "python3"
  },
  "language_info": {
   "codemirror_mode": {
    "name": "ipython",
    "version": 3
   },
   "file_extension": ".py",
   "mimetype": "text/x-python",
   "name": "python",
   "nbconvert_exporter": "python",
   "pygments_lexer": "ipython3",
   "version": "3.9.16"
  }
 },
 "nbformat": 4,
 "nbformat_minor": 5
}
